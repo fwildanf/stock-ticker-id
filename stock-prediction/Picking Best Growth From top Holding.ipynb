{
 "cells": [
  {
   "cell_type": "code",
   "execution_count": 3,
   "metadata": {},
   "outputs": [],
   "source": [
    "from stockpredict import MultiPredict"
   ]
  },
  {
   "cell_type": "code",
   "execution_count": 2,
   "metadata": {},
   "outputs": [],
   "source": [
    "top_holdings = ['BBCA', 'TLK', 'BBRI', 'ASII', 'BMRI', 'BBNI', 'UNVR', 'UNTR']"
   ]
  },
  {
   "cell_type": "code",
   "execution_count": 4,
   "metadata": {},
   "outputs": [],
   "source": [
    "multi = MultiPredict(top_holdings)"
   ]
  },
  {
   "cell_type": "code",
   "execution_count": 5,
   "metadata": {},
   "outputs": [
    {
     "name": "stderr",
     "output_type": "stream",
     "text": [
      "/home/doni/anaconda3/envs/stock-ticker/lib/python3.6/site-packages/pandas_datareader/google/daily.py:40: UnstableAPIWarning: \n",
      "The Google Finance API has not been stable since late 2017. Requests seem\n",
      "to fail at random. Failure is especially common when bulk downloading.\n",
      "\n",
      "  warnings.warn(UNSTABLE_WARNING, UnstableAPIWarning)\n",
      "INFO:fbprophet.forecaster:Disabling daily seasonality. Run prophet with daily_seasonality=True to override this.\n",
      "/home/doni/anaconda3/envs/stock-ticker/lib/python3.6/site-packages/pystan/misc.py:399: FutureWarning: Conversion of the second argument of issubdtype from `float` to `np.floating` is deprecated. In future, it will be treated as `np.float64 == np.dtype(float).type`.\n",
      "  elif np.issubdtype(np.asarray(v).dtype, float):\n",
      "INFO:fbprophet.forecaster:Disabling daily seasonality. Run prophet with daily_seasonality=True to override this.\n",
      "INFO:fbprophet.forecaster:Disabling daily seasonality. Run prophet with daily_seasonality=True to override this.\n",
      "INFO:fbprophet.forecaster:Disabling daily seasonality. Run prophet with daily_seasonality=True to override this.\n",
      "INFO:fbprophet.forecaster:Disabling daily seasonality. Run prophet with daily_seasonality=True to override this.\n",
      "INFO:fbprophet.forecaster:Disabling daily seasonality. Run prophet with daily_seasonality=True to override this.\n",
      "INFO:fbprophet.forecaster:Disabling daily seasonality. Run prophet with daily_seasonality=True to override this.\n",
      "INFO:fbprophet.forecaster:Disabling daily seasonality. Run prophet with daily_seasonality=True to override this.\n"
     ]
    }
   ],
   "source": [
    "multi.predict('2010-01-01', '2018-01-01', 1825) # For Five Years"
   ]
  },
  {
   "cell_type": "code",
   "execution_count": 7,
   "metadata": {},
   "outputs": [],
   "source": [
    "multi.prediction.index.name = 'Date'"
   ]
  },
  {
   "cell_type": "code",
   "execution_count": 9,
   "metadata": {},
   "outputs": [
    {
     "data": {
      "text/html": [
       "<div>\n",
       "<style scoped>\n",
       "    .dataframe tbody tr th:only-of-type {\n",
       "        vertical-align: middle;\n",
       "    }\n",
       "\n",
       "    .dataframe tbody tr th {\n",
       "        vertical-align: top;\n",
       "    }\n",
       "\n",
       "    .dataframe thead th {\n",
       "        text-align: right;\n",
       "    }\n",
       "</style>\n",
       "<table border=\"1\" class=\"dataframe\">\n",
       "  <thead>\n",
       "    <tr style=\"text-align: right;\">\n",
       "      <th></th>\n",
       "      <th>BBCA</th>\n",
       "      <th>TLK</th>\n",
       "      <th>BBRI</th>\n",
       "      <th>ASII</th>\n",
       "      <th>BMRI</th>\n",
       "      <th>BBNI</th>\n",
       "      <th>UNVR</th>\n",
       "      <th>UNTR</th>\n",
       "    </tr>\n",
       "    <tr>\n",
       "      <th>Date</th>\n",
       "      <th></th>\n",
       "      <th></th>\n",
       "      <th></th>\n",
       "      <th></th>\n",
       "      <th></th>\n",
       "      <th></th>\n",
       "      <th></th>\n",
       "      <th></th>\n",
       "    </tr>\n",
       "  </thead>\n",
       "  <tbody>\n",
       "    <tr>\n",
       "      <th>2018-01-01</th>\n",
       "      <td>20442.522693</td>\n",
       "      <td>31.349183</td>\n",
       "      <td>3310.744141</td>\n",
       "      <td>8663.096102</td>\n",
       "      <td>7140.714349</td>\n",
       "      <td>8045.990015</td>\n",
       "      <td>30.455677</td>\n",
       "      <td>37541.068246</td>\n",
       "    </tr>\n",
       "    <tr>\n",
       "      <th>2018-01-02</th>\n",
       "      <td>20445.322023</td>\n",
       "      <td>31.375609</td>\n",
       "      <td>3304.121969</td>\n",
       "      <td>8639.490099</td>\n",
       "      <td>7155.148180</td>\n",
       "      <td>8039.559764</td>\n",
       "      <td>30.287577</td>\n",
       "      <td>37764.067411</td>\n",
       "    </tr>\n",
       "    <tr>\n",
       "      <th>2018-01-03</th>\n",
       "      <td>20458.171357</td>\n",
       "      <td>31.417368</td>\n",
       "      <td>3307.395768</td>\n",
       "      <td>8659.209266</td>\n",
       "      <td>7174.192254</td>\n",
       "      <td>8061.837374</td>\n",
       "      <td>30.196630</td>\n",
       "      <td>38048.701376</td>\n",
       "    </tr>\n",
       "    <tr>\n",
       "      <th>2018-01-04</th>\n",
       "      <td>20442.582754</td>\n",
       "      <td>31.399368</td>\n",
       "      <td>3306.709511</td>\n",
       "      <td>8672.078957</td>\n",
       "      <td>7177.264364</td>\n",
       "      <td>8070.580173</td>\n",
       "      <td>30.131533</td>\n",
       "      <td>38142.930255</td>\n",
       "    </tr>\n",
       "    <tr>\n",
       "      <th>2018-01-05</th>\n",
       "      <td>20391.902478</td>\n",
       "      <td>31.401214</td>\n",
       "      <td>3291.122381</td>\n",
       "      <td>8664.807460</td>\n",
       "      <td>7175.417256</td>\n",
       "      <td>8065.019429</td>\n",
       "      <td>30.084658</td>\n",
       "      <td>38238.239527</td>\n",
       "    </tr>\n",
       "  </tbody>\n",
       "</table>\n",
       "</div>"
      ],
      "text/plain": [
       "                    BBCA        TLK         BBRI         ASII         BMRI  \\\n",
       "Date                                                                         \n",
       "2018-01-01  20442.522693  31.349183  3310.744141  8663.096102  7140.714349   \n",
       "2018-01-02  20445.322023  31.375609  3304.121969  8639.490099  7155.148180   \n",
       "2018-01-03  20458.171357  31.417368  3307.395768  8659.209266  7174.192254   \n",
       "2018-01-04  20442.582754  31.399368  3306.709511  8672.078957  7177.264364   \n",
       "2018-01-05  20391.902478  31.401214  3291.122381  8664.807460  7175.417256   \n",
       "\n",
       "                   BBNI       UNVR          UNTR  \n",
       "Date                                              \n",
       "2018-01-01  8045.990015  30.455677  37541.068246  \n",
       "2018-01-02  8039.559764  30.287577  37764.067411  \n",
       "2018-01-03  8061.837374  30.196630  38048.701376  \n",
       "2018-01-04  8070.580173  30.131533  38142.930255  \n",
       "2018-01-05  8065.019429  30.084658  38238.239527  "
      ]
     },
     "execution_count": 9,
     "metadata": {},
     "output_type": "execute_result"
    }
   ],
   "source": [
    "multi.prediction.head()"
   ]
  },
  {
   "cell_type": "code",
   "execution_count": 10,
   "metadata": {},
   "outputs": [],
   "source": [
    "multi.to_csv('data/yahoo-finance-top-holdins.csv')"
   ]
  },
  {
   "cell_type": "code",
   "execution_count": 102,
   "metadata": {},
   "outputs": [],
   "source": [
    "class Growt:\n",
    "    def __init__(self, dataframe):\n",
    "        self.dataframe = dataframe\n",
    "        \n",
    "    def best_first_week(self):\n",
    "        return (self.dataframe.iloc[6] - self.dataframe.iloc[0])\n",
    "        \n",
    "    def best_first_month(self):\n",
    "        return (self.dataframe.iloc[31] - self.dataframe.iloc[0])\n",
    "    \n",
    "    def best_first_3months(self):\n",
    "        return (self.dataframe.iloc[90] - self.dataframe.iloc[0])\n",
    "    \n",
    "    def best_first_6months(self):\n",
    "        return (self.dataframe.iloc[181] - self.dataframe.iloc[0])\n",
    "    \n",
    "    def best_first_year(self):\n",
    "        return (self.dataframe.iloc[365] - self.dataframe.iloc[0])\n",
    "    \n",
    "    def best_first_5year(self):\n",
    "        return (self.dataframe.iloc[-1] - self.dataframe.iloc[0])\n",
    "    "
   ]
  },
  {
   "cell_type": "code",
   "execution_count": 103,
   "metadata": {},
   "outputs": [],
   "source": [
    "df = multi.prediction.copy()"
   ]
  },
  {
   "cell_type": "code",
   "execution_count": 104,
   "metadata": {},
   "outputs": [],
   "source": [
    "growth = Growt(df)"
   ]
  },
  {
   "cell_type": "code",
   "execution_count": 112,
   "metadata": {},
   "outputs": [
    {
     "data": {
      "text/plain": [
       "BBCA   -159.294954\n",
       "TLK      -1.277461\n",
       "BBRI    -93.560470\n",
       "ASII   -275.310435\n",
       "BMRI    206.452690\n",
       "BBNI     59.277025\n",
       "UNVR     -1.479279\n",
       "UNTR     62.990805\n",
       "dtype: float64"
      ]
     },
     "execution_count": 112,
     "metadata": {},
     "output_type": "execute_result"
    }
   ],
   "source": [
    "first_week = growth.best_first_week().copy()\n",
    "first_week"
   ]
  },
  {
   "cell_type": "code",
   "execution_count": 114,
   "metadata": {},
   "outputs": [
    {
     "name": "stdout",
     "output_type": "stream",
     "text": [
      "BMRI 206.4526901803183\n"
     ]
    }
   ],
   "source": [
    "print(first_week.idxmax(), first_week.max())"
   ]
  },
  {
   "cell_type": "code",
   "execution_count": 113,
   "metadata": {},
   "outputs": [
    {
     "data": {
      "text/plain": [
       "BBCA     -85.282169\n",
       "TLK        0.511118\n",
       "BBRI    -155.296994\n",
       "ASII      34.389070\n",
       "BMRI     -18.245597\n",
       "BBNI      85.390878\n",
       "UNVR      -4.120097\n",
       "UNTR    2132.307144\n",
       "dtype: float64"
      ]
     },
     "execution_count": 113,
     "metadata": {},
     "output_type": "execute_result"
    }
   ],
   "source": [
    "first_month = growth.best_first_month().copy()\n",
    "first_month"
   ]
  },
  {
   "cell_type": "code",
   "execution_count": 115,
   "metadata": {},
   "outputs": [
    {
     "name": "stdout",
     "output_type": "stream",
     "text": [
      "UNTR 206.4526901803183\n"
     ]
    }
   ],
   "source": [
    "print(first_month.idxmax(), first_week.max())"
   ]
  },
  {
   "cell_type": "code",
   "execution_count": 118,
   "metadata": {},
   "outputs": [
    {
     "data": {
      "text/plain": [
       "BBCA    2258.038401\n",
       "TLK        0.078915\n",
       "BBRI     263.514972\n",
       "ASII     450.267517\n",
       "BMRI     832.738728\n",
       "BBNI    1440.565808\n",
       "UNVR       0.276934\n",
       "UNTR    5714.353665\n",
       "dtype: float64"
      ]
     },
     "execution_count": 118,
     "metadata": {},
     "output_type": "execute_result"
    }
   ],
   "source": [
    "first_3months = growth.best_first_3months().copy()\n",
    "first_3months"
   ]
  },
  {
   "cell_type": "code",
   "execution_count": 119,
   "metadata": {},
   "outputs": [
    {
     "name": "stdout",
     "output_type": "stream",
     "text": [
      "UNTR 5714.353665165865\n"
     ]
    }
   ],
   "source": [
    "print(first_3months.idxmax(), first_3months.max())"
   ]
  },
  {
   "cell_type": "code",
   "execution_count": 120,
   "metadata": {},
   "outputs": [
    {
     "data": {
      "text/plain": [
       "BBCA     6952.262950\n",
       "TLK         2.858554\n",
       "BBRI     1124.991252\n",
       "ASII      979.086427\n",
       "BMRI     2080.789417\n",
       "BBNI     3354.143769\n",
       "UNVR        1.846547\n",
       "UNTR    27558.665937\n",
       "dtype: float64"
      ]
     },
     "execution_count": 120,
     "metadata": {},
     "output_type": "execute_result"
    }
   ],
   "source": [
    "first_year = growth.best_first_year().copy()\n",
    "first_year"
   ]
  },
  {
   "cell_type": "code",
   "execution_count": 121,
   "metadata": {},
   "outputs": [
    {
     "name": "stdout",
     "output_type": "stream",
     "text": [
      "UNTR 27558.66593681527\n"
     ]
    }
   ],
   "source": [
    "print(first_year.idxmax(), first_year.max())"
   ]
  },
  {
   "cell_type": "code",
   "execution_count": 122,
   "metadata": {},
   "outputs": [
    {
     "data": {
      "text/plain": [
       "BBCA     67822.536021\n",
       "TLK         17.025543\n",
       "BBRI     11058.315548\n",
       "ASII      6287.707595\n",
       "BMRI     18350.562036\n",
       "BBNI     38130.733338\n",
       "UNVR        11.048153\n",
       "UNTR    541206.677728\n",
       "dtype: float64"
      ]
     },
     "execution_count": 122,
     "metadata": {},
     "output_type": "execute_result"
    }
   ],
   "source": [
    "first_5year = growth.best_first_5year().copy()\n",
    "first_5year"
   ]
  },
  {
   "cell_type": "code",
   "execution_count": 123,
   "metadata": {},
   "outputs": [
    {
     "name": "stdout",
     "output_type": "stream",
     "text": [
      "UNTR 541206.677727824\n"
     ]
    }
   ],
   "source": [
    "print(first_5year.idxmax(), first_5year.max())"
   ]
  },
  {
   "cell_type": "markdown",
   "metadata": {},
   "source": [
    "# Best Performance Stocks UNTR \"United Tractors\" by Growth"
   ]
  }
 ],
 "metadata": {
  "kernelspec": {
   "display_name": "Python 3",
   "language": "python",
   "name": "python3"
  },
  "language_info": {
   "codemirror_mode": {
    "name": "ipython",
    "version": 3
   },
   "file_extension": ".py",
   "mimetype": "text/x-python",
   "name": "python",
   "nbconvert_exporter": "python",
   "pygments_lexer": "ipython3",
   "version": "3.6.4"
  }
 },
 "nbformat": 4,
 "nbformat_minor": 2
}
